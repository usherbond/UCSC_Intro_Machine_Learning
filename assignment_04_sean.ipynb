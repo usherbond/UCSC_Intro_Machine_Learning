{
 "cells": [
  {
   "cell_type": "code",
   "execution_count": 1,
   "metadata": {
    "collapsed": true
   },
   "outputs": [],
   "source": [
    "import numpy as np\n",
    "import math\n",
    "import scipy.stats\n",
    "import matplotlib.pyplot as plt"
   ]
  },
  {
   "cell_type": "code",
   "execution_count": 2,
   "metadata": {
    "collapsed": true
   },
   "outputs": [],
   "source": [
    "def readExcelSheet1(excelfile):\n",
    "    from pandas import read_excel\n",
    "    return (read_excel(excelfile)).values"
   ]
  },
  {
   "cell_type": "code",
   "execution_count": 3,
   "metadata": {
    "collapsed": true
   },
   "outputs": [],
   "source": [
    "def readExcelRange(excelfile,sheetname=\"Sheet1\",startrow=1,endrow=1,startcol=1,endcol=1):\n",
    "    from pandas import read_excel\n",
    "    values=(read_excel(excelfile, sheetname,header=None)).values;\n",
    "    return values[startrow-1:endrow,startcol-1:endcol]"
   ]
  },
  {
   "cell_type": "code",
   "execution_count": 4,
   "metadata": {
    "collapsed": true
   },
   "outputs": [],
   "source": [
    "def readExcel(excelfile,**args):\n",
    "    if args:\n",
    "        data=readExcelRange(excelfile,**args)\n",
    "    else:\n",
    "        data=readExcelSheet1(excelfile)\n",
    "    if data.shape==(1,1):\n",
    "        return data[0,0]\n",
    "    elif (data.shape)[0]==1:\n",
    "        return data[0]\n",
    "    else:\n",
    "        return data"
   ]
  },
  {
   "cell_type": "code",
   "execution_count": 5,
   "metadata": {
    "collapsed": true
   },
   "outputs": [],
   "source": [
    "def writeExcelData(x,excelfile,sheetname,startrow,startcol):\n",
    "    from pandas import DataFrame, ExcelWriter\n",
    "    from openpyxl import load_workbook\n",
    "    df=DataFrame(x)\n",
    "    book = load_workbook(excelfile)\n",
    "    writer = ExcelWriter(excelfile, engine='openpyxl') \n",
    "    writer.book = book\n",
    "    writer.sheets = dict((ws.title, ws) for ws in book.worksheets)\n",
    "    df.to_excel(writer, sheet_name=sheetname,startrow=startrow-1, startcol=startcol-1, header=False, index=False)\n",
    "    writer.save()\n",
    "    writer.close()"
   ]
  },
  {
   "cell_type": "code",
   "execution_count": 6,
   "metadata": {
    "collapsed": true
   },
   "outputs": [],
   "source": [
    "def getSheetNames(excelfile):\n",
    "    from pandas import ExcelFile\n",
    "    return (ExcelFile(excelfile)).sheet_names"
   ]
  },
  {
   "cell_type": "code",
   "execution_count": 7,
   "metadata": {
    "collapsed": true
   },
   "outputs": [],
   "source": [
    "def linearRegressionTraining(X,T): #X is w/o x0. T is from 0 to m for m class labels\n",
    "    X0 = np.full((len(X),1), 1, dtype=np.float)\n",
    "    XC = np.hstack((X0,X))\n",
    "    #Calculate the pseudo-inverse Matrix of X, by using numpy\n",
    "    X_d = np.linalg.pinv(XC)\n",
    "    tmax = np.amax(T);\n",
    "    tmin = np.amin(T);\n",
    "    if(tmax-tmin>2): #non binary multiclass\n",
    "        TM= np.full((len(T),tmax-tmin+1), -1, dtype=np.float)\n",
    "        for i,t in enumerate(T):\n",
    "            TM[i][t]=1.0\n",
    "    else:\n",
    "        TM=T\n",
    "    #Calculate the vector of weights w as multiplication of X_d and y\n",
    "    w = np.dot(X_d,TM)\n",
    "    return w"
   ]
  },
  {
   "cell_type": "code",
   "execution_count": 8,
   "metadata": {
    "collapsed": true
   },
   "outputs": [],
   "source": [
    "def applyLinearClassifier(X,W,th,num): #th is threshold. num is # of class labels\n",
    "    X0 = np.full((len(X),1), 1, dtype=np.float)\n",
    "    XC = np.hstack((X0,X))\n",
    "    TP = np.dot(XC,W)\n",
    "    TH = np.full((len(TP),), th, dtype=np.float)\n",
    "    resultlabel = np.full((len(TP),), 0, dtype=np.int)\n",
    "    if(num==2):        \n",
    "        indicesp=TP>TH;\n",
    "        indicesn=TP<TH;\n",
    "        resultlabel[indicesp]=1;\n",
    "        resultlabel[indicesn]=-1;\n",
    "        #countp= np.sum(indicesp)\n",
    "        #countn= np.sum(indicesn)\n",
    "        #count = np.array([countn,countp])\n",
    "        print(resultlabel[1:5],resultlabel.shape)\n",
    "    else:\n",
    "        resultlabel = np.argmax(TP, axis=1) #index of maximum on horizental axis\n",
    "        #count = np.full((num,),0,dtype=np.int)\n",
    "        #for i in range(num):\n",
    "            #count[i]= (resultlabel==i).sum()\n",
    "        print(resultlabel[1:5],resultlabel.shape)\n",
    "    return resultlabel"
   ]
  },
  {
   "cell_type": "code",
   "execution_count": 9,
   "metadata": {
    "collapsed": true
   },
   "outputs": [],
   "source": [
    "def computeConfusionMatrix(resultlabel,T,num): #T is ground truth labels. num is # of class labels\n",
    "    matrix = np.full((num,num), 0, dtype=np.int)\n",
    "    for truth in range(num):\n",
    "        for predict in range(num):\n",
    "            count = np.full((len(resultlabel),), 0, dtype=np.int)\n",
    "            count[((resultlabel==predict)&(T==truth))]=1\n",
    "            matrix[truth][predict]=count.sum()\n",
    "            \n",
    "    ppv_denom = np.sum(matrix,axis=0) #it's a vector that sums each column\n",
    "    ppv_top = np.full((num,), 0, dtype=np.int)\n",
    "    for i in range(num):\n",
    "        ppv_top[i]= matrix[i][i]\n",
    "    ppv = ppv_top*100.0/ppv_denom; #a vector for all classes\n",
    "    ppvmax_ind = np.argmax(ppv)\n",
    "    ppvmin_ind = np.argmin(ppv)\n",
    "\n",
    "    return matrix,ppv,ppvmax_ind,ppvmin_ind"
   ]
  },
  {
   "cell_type": "code",
   "execution_count": 10,
   "metadata": {
    "collapsed": true
   },
   "outputs": [],
   "source": [
    "excelfile=r\"Assignment_4_Data_and_Template.xlsx\";\n",
    "excelfile_c=r\"Assignment_4_Data_and_Template_ArshiaRazavi.xlsx\";"
   ]
  },
  {
   "cell_type": "code",
   "execution_count": 11,
   "metadata": {
    "collapsed": false,
    "scrolled": true
   },
   "outputs": [
    {
     "data": {
      "text/plain": [
       "[u'Training Data', u'Classifiers', u'To be classified', u'Performance']"
      ]
     },
     "execution_count": 11,
     "metadata": {},
     "output_type": "execute_result"
    }
   ],
   "source": [
    "sheets=getSheetNames(excelfile);sheets"
   ]
  },
  {
   "cell_type": "code",
   "execution_count": 12,
   "metadata": {
    "collapsed": false
   },
   "outputs": [
    {
     "name": "stdout",
     "output_type": "stream",
     "text": [
      "((6600, 17), (4950, 15), (4950,), (1650,))\n"
     ]
    }
   ],
   "source": [
    "data=readExcel(excelfile)\n",
    "trainpct=0.75;\n",
    "permuted_indices = np.random.permutation(len(data)); #divide data into two subset train and test\n",
    "train = int(trainpct*len(data))\n",
    "training_i = permuted_indices[:train]\n",
    "test_i = permuted_indices[train:]\n",
    "\n",
    "X_full = np.array(data[:,:15],dtype=float);\n",
    "T_full=data[:,15]; #binary class labels\n",
    "M_full=data[:,16]; #multi class labels\n",
    "\n",
    "X_test = X_full[test_i]\n",
    "T_test = T_full[test_i]\n",
    "M_test = M_full[test_i]\n",
    "\n",
    "X = X_full[training_i]\n",
    "T = T_full[training_i]\n",
    "M = M_full[training_i]\n",
    "\n",
    "print (data.shape, X.shape,training_i.shape,test_i.shape )"
   ]
  },
  {
   "cell_type": "markdown",
   "metadata": {},
   "source": [
    "count_b = countLabel(T_test,2)\n",
    "count_b[0]=len(T_test)-count_b[1]\n",
    "\n",
    "count_m = countLabel(M_test,6)\n",
    "print(count_b,count_b.shape)\n",
    "print(count_m,count_m.shape)"
   ]
  },
  {
   "cell_type": "code",
   "execution_count": 13,
   "metadata": {
    "collapsed": true
   },
   "outputs": [],
   "source": [
    "w = linearRegressionTraining(X,T)\n",
    "wM = linearRegressionTraining(X,M)"
   ]
  },
  {
   "cell_type": "code",
   "execution_count": 14,
   "metadata": {
    "collapsed": true
   },
   "outputs": [],
   "source": [
    "writeExcelData(w,excelfile,'Classifiers',5,1)\n",
    "writeExcelData(wM,excelfile,'Classifiers',5,5)"
   ]
  },
  {
   "cell_type": "code",
   "execution_count": 15,
   "metadata": {
    "collapsed": true
   },
   "outputs": [],
   "source": [
    "queries=(readExcel(excelfile,\n",
    "                  sheetname='To be classified',\n",
    "                  startrow=5,\n",
    "                  endrow=54,\n",
    "                  startcol=1,\n",
    "                  endcol=15)).astype(float);"
   ]
  },
  {
   "cell_type": "code",
   "execution_count": 16,
   "metadata": {
    "collapsed": false
   },
   "outputs": [
    {
     "name": "stdout",
     "output_type": "stream",
     "text": [
      "(array([-1,  1, -1, -1]), (50,))\n",
      "(array([4, 0, 4, 4]), (50,))\n",
      "(array([-1, -1,  1, -1, -1, -1,  1, -1, -1, -1]), array([1, 4, 0, 4, 4, 5, 0, 4, 5, 1]), (50,))\n"
     ]
    }
   ],
   "source": [
    "resultlabel_qb=applyLinearClassifier(queries,w,0,2)\n",
    "resultlabel_qm=applyLinearClassifier(queries,wM,0,6)\n",
    "print (resultlabel_qb[0:10],resultlabel_qm[0:10], resultlabel_qm.shape)"
   ]
  },
  {
   "cell_type": "code",
   "execution_count": 17,
   "metadata": {
    "collapsed": true
   },
   "outputs": [],
   "source": [
    "writeExcelData(resultlabel_qb,excelfile,'To be classified',5,16)\n",
    "writeExcelData(resultlabel_qm,excelfile,'To be classified',5,17)"
   ]
  },
  {
   "cell_type": "code",
   "execution_count": 18,
   "metadata": {
    "collapsed": false
   },
   "outputs": [
    {
     "name": "stdout",
     "output_type": "stream",
     "text": [
      "(array([ 1, -1,  1, -1]), (1650,))\n",
      "(549, 798, 286, 17, 1650)\n"
     ]
    }
   ],
   "source": [
    "resultlabel_tb = applyLinearClassifier(X_test,w,0,2)\n",
    "TP = np.full(np.alen(T_test),0, dtype=int);\n",
    "TP[((resultlabel_tb==1)&(T_test==1))]=1\n",
    "TP_num=TP.sum() #true positive\n",
    "\n",
    "TN = np.full(np.alen(T_test),0, dtype=int);\n",
    "TN[((resultlabel_tb==-1)&(T_test==-1))]=1\n",
    "TN_num=TN.sum()  #true negative\n",
    "\n",
    "FN = np.full(np.alen(T_test),0, dtype=int);\n",
    "FN[((resultlabel_tb==-1)&(T_test==1))]=1\n",
    "FN_num=FN.sum()  #false negative\n",
    "\n",
    "FP = np.full(np.alen(T_test),0, dtype=int);\n",
    "FP[((resultlabel_tb==1)&(T_test==-1))]=1\n",
    "FP_num=FP.sum()  #false positive\n",
    "\n",
    "print (TP_num,TN_num,FN_num,FP_num,TP_num+TN_num+FN_num+FP_num)"
   ]
  },
  {
   "cell_type": "code",
   "execution_count": 19,
   "metadata": {
    "collapsed": false
   },
   "outputs": [
    {
     "name": "stdout",
     "output_type": "stream",
     "text": [
      "0.816363636364 0.65748502994 0.979141104294 0.969964664311\n"
     ]
    }
   ],
   "source": [
    "writeExcelData(np.reshape(TN_num,(1,1)),excelfile,'Performance',10,3)\n",
    "writeExcelData(np.reshape(FP_num,(1,1)),excelfile,'Performance',10,4)\n",
    "writeExcelData(np.reshape(FN_num,(1,1)),excelfile,'Performance',11,3)\n",
    "writeExcelData(np.reshape(TP_num,(1,1)),excelfile,'Performance',11,4)\n",
    "accB=(TP_num+TN_num)*1.0/(TP_num+TN_num+FN_num+FP_num);\n",
    "sensB=TP_num*1.0/(TP_num+FN_num);\n",
    "specB=TN_num*1.0/(TN_num+FP_num);\n",
    "ppvB=TP_num*1.0/(TP_num+FP_num);\n",
    "print accB,sensB,specB,ppvB\n",
    "writeExcelData(np.reshape(accB,(1,1)),excelfile,'Performance',8,7)\n",
    "writeExcelData(np.reshape(sensB,(1,1)),excelfile,'Performance',9,7)\n",
    "writeExcelData(np.reshape(specB,(1,1)),excelfile,'Performance',10,7)\n",
    "writeExcelData(np.reshape(ppvB,(1,1)),excelfile,'Performance',11,7)"
   ]
  },
  {
   "cell_type": "code",
   "execution_count": 20,
   "metadata": {
    "collapsed": false
   },
   "outputs": [
    {
     "name": "stdout",
     "output_type": "stream",
     "text": [
      "(array([0, 5, 0, 5]), (1650,))\n"
     ]
    }
   ],
   "source": [
    "resultlabel_tm = applyLinearClassifier(X_test,wM,0,6)"
   ]
  },
  {
   "cell_type": "code",
   "execution_count": 21,
   "metadata": {
    "collapsed": false
   },
   "outputs": [
    {
     "name": "stdout",
     "output_type": "stream",
     "text": [
      "(array([[161,   3,  98,   0,   0,  18],\n",
      "       [  0, 191,   0,  43,   0,  30],\n",
      "       [ 78,   0, 207,   0,   0,   6],\n",
      "       [  5, 142,   0,  44,   0,  81],\n",
      "       [  0,   2,   0,   0, 277,   1],\n",
      "       [  9,  47,   2,  17,   1, 187]]), array([ 63.63636364,  49.61038961,  67.4267101 ,  42.30769231,\n",
      "        99.64028777,  57.89473684]), 4, 3)\n"
     ]
    }
   ],
   "source": [
    "matrix,ppv,high,low=computeConfusionMatrix(resultlabel_tm,M_test,6)\n",
    "print(matrix,ppv,high,low)"
   ]
  },
  {
   "cell_type": "code",
   "execution_count": 22,
   "metadata": {
    "collapsed": true
   },
   "outputs": [],
   "source": [
    "writeExcelData(matrix,excelfile,'Performance',19,3)\n",
    "writeExcelData(np.reshape(ppv[high],(1,1)),excelfile,'Performance',20,12)\n",
    "writeExcelData(np.reshape(ppv[low],(1,1)),excelfile,'Performance',21,12)\n",
    "writeExcelData(np.reshape(high,(1,1)),excelfile,'Performance',20,13)\n",
    "writeExcelData(np.reshape(low,(1,1)),excelfile,'Performance',21,13)"
   ]
  },
  {
   "cell_type": "code",
   "execution_count": 2330,
   "metadata": {
    "collapsed": true
   },
   "outputs": [],
   "source": [
    "#[np.sum(H) for H in [HF, HFrec, HM, HMrec]]"
   ]
  }
 ],
 "metadata": {
  "kernelspec": {
   "display_name": "Python 2",
   "language": "python",
   "name": "python2"
  },
  "language_info": {
   "codemirror_mode": {
    "name": "ipython",
    "version": 2
   },
   "file_extension": ".py",
   "mimetype": "text/x-python",
   "name": "python",
   "nbconvert_exporter": "python",
   "pygments_lexer": "ipython2",
   "version": "2.7.13"
  }
 },
 "nbformat": 4,
 "nbformat_minor": 2
}
