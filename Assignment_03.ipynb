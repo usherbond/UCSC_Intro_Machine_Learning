{
 "cells": [
  {
   "cell_type": "code",
   "execution_count": 8,
   "metadata": {
    "collapsed": true
   },
   "outputs": [],
   "source": [
    "import numpy as np\n",
    "import pandas as pd"
   ]
  },
  {
   "cell_type": "markdown",
   "metadata": {},
   "source": [
    "Copy the file(Data Source) from the command prompt to the folder running this workbook and try below to introduce your file name/"
   ]
  },
  {
   "cell_type": "code",
   "execution_count": 9,
   "metadata": {
    "collapsed": false
   },
   "outputs": [
    {
     "data": {
      "text/plain": [
       "'Assignment_2_Data_and_Template.xlsx'"
      ]
     },
     "execution_count": 9,
     "metadata": {},
     "output_type": "execute_result"
    }
   ],
   "source": [
    "excelfile=r\"Assignment_2_Data_and_Template.xlsx\";\n",
    "excelfile"
   ]
  },
  {
   "cell_type": "code",
   "execution_count": 10,
   "metadata": {
    "collapsed": false
   },
   "outputs": [],
   "source": [
    "def getSheetNames(excelfile):\n",
    "    from pandas import ExcelFile\n",
    "    return (ExcelFile(excelfile)).sheet_names"
   ]
  },
  {
   "cell_type": "markdown",
   "metadata": {},
   "source": [
    "Once the file is there and the function above is defined, then the next line should list your sheet names in the excel file."
   ]
  },
  {
   "cell_type": "code",
   "execution_count": 11,
   "metadata": {
    "collapsed": false
   },
   "outputs": [
    {
     "data": {
      "text/plain": [
       "[u'Data',\n",
       " u'Female Histogram',\n",
       " u'Male Histogram',\n",
       " u'Bayesian',\n",
       " u'Queries',\n",
       " u'Reconstructed Female Histogram',\n",
       " u'Reconstructed Male Histogram',\n",
       " u'Observations']"
      ]
     },
     "execution_count": 11,
     "metadata": {},
     "output_type": "execute_result"
    }
   ],
   "source": [
    "sheets=getSheetNames(excelfile);\n",
    "sheets"
   ]
  },
  {
   "cell_type": "code",
   "execution_count": 12,
   "metadata": {
    "collapsed": true
   },
   "outputs": [],
   "source": [
    "def readExcelSheet1(excelfile):\n",
    "    from pandas import read_excel\n",
    "    return (read_excel(excelfile)).values"
   ]
  },
  {
   "cell_type": "code",
   "execution_count": 7,
   "metadata": {
    "collapsed": true
   },
   "outputs": [],
   "source": [
    "def readExcelRange(excelfile,sheetname=\"Sheet1\",startrow=1,endrow=1,startcol=1,endcol=1):\n",
    "    from pandas import read_excel\n",
    "    values=(read_excel(excelfile, sheetname,header=None)).values;\n",
    "    return values[startrow-1:endrow,startcol-1:endcol]"
   ]
  },
  {
   "cell_type": "code",
   "execution_count": 15,
   "metadata": {
    "collapsed": false
   },
   "outputs": [],
   "source": [
    "def readExcel(excelfile,**args):\n",
    "    if args:\n",
    "        data=readExcelRange(excelfile,**args)\n",
    "    else:\n",
    "        data=readExcelSheet1(excelfile)\n",
    "    if data.shape==(1,1):\n",
    "        return data[0,0]\n",
    "    elif (data.shape)[0]==1:\n",
    "        return data[0]\n",
    "    else:\n",
    "        return data"
   ]
  },
  {
   "cell_type": "code",
   "execution_count": 16,
   "metadata": {
    "collapsed": true
   },
   "outputs": [],
   "source": [
    "def writeExcelData(x,excelfile,sheetname,startrow,startcol):\n",
    "    from pandas import DataFrame, ExcelWriter\n",
    "    from openpyxl import load_workbook\n",
    "    df=DataFrame(x)\n",
    "    book = load_workbook(excelfile)\n",
    "    writer = ExcelWriter(excelfile, engine='openpyxl') \n",
    "    writer.book = book\n",
    "    writer.sheets = dict((ws.title, ws) for ws in book.worksheets)\n",
    "    df.to_excel(writer, sheet_name=sheetname,startrow=startrow-1, startcol=startcol-1, header=False, index=False)\n",
    "    writer.save()\n",
    "    writer.close()"
   ]
  },
  {
   "cell_type": "markdown",
   "metadata": {},
   "source": [
    "### __numpy.array__\n",
    "_numpy.array(object, dtype=None, copy=True, order='K', subok=False, ndmin=0)<br>_\n",
    "* You may use function __\"ReadExcel\"__ to read your data into the variable called __\"Data\"__\n",
    "* You may refer to the cells inside your __Data__ variable by using __data[1,2]__ for the value in row 1 and column 2\n",
    "* In order to read a full column regardless of row number you may use __\":\"__ eg. __data[:,1]__\n",
    "* Note that the first column (A) is index 0"
   ]
  },
  {
   "cell_type": "code",
   "execution_count": 29,
   "metadata": {
    "collapsed": false
   },
   "outputs": [
    {
     "data": {
      "text/plain": [
       "array([u'Male', 71.0, 23.5], dtype=object)"
      ]
     },
     "execution_count": 29,
     "metadata": {},
     "output_type": "execute_result"
    }
   ],
   "source": [
    "data=readExcel(excelfile)\n",
    "#X=np.array(data[:,1],dtype=float)\n",
    "#X\n",
    "data[1,:]"
   ]
  },
  {
   "cell_type": "code",
   "execution_count": 48,
   "metadata": {
    "collapsed": false
   },
   "outputs": [
    {
     "data": {
      "text/plain": [
       "array([ 68.,  71.,  73.,  64.,  68.,  59.,  73.,  75.,  65.,  69.])"
      ]
     },
     "execution_count": 48,
     "metadata": {},
     "output_type": "execute_result"
    }
   ],
   "source": [
    "X=np.array(data[:,1],dtype=float)\n",
    "X[:10]"
   ]
  },
  {
   "cell_type": "markdown",
   "metadata": {},
   "source": [
    "using a for to read the data in string format"
   ]
  },
  {
   "cell_type": "code",
   "execution_count": 37,
   "metadata": {
    "collapsed": false
   },
   "outputs": [
    {
     "data": {
      "text/plain": [
       "array(['Female', 'Male', 'Male', 'Female', 'Male', 'Female', 'Male',\n",
       "       'Male', 'Female', 'Female', 'Male', 'Female', 'Female', 'Female',\n",
       "       'Male', 'Male', 'Female', 'Male', 'Female', 'Male', 'Male',\n",
       "       'Female', 'Male', 'Male', 'Male', 'Female', 'Female', 'Female',\n",
       "       'Male', 'Female', 'Female', 'Female', 'Female', 'Female', 'Male',\n",
       "       'Male', 'Female', 'Female', 'Male', 'Male', 'Male', 'Female',\n",
       "       'Male', 'Female', 'Male', 'Female', 'Female', 'Male', 'Male',\n",
       "       'Female', 'Male', 'Male', 'Female', 'Female', 'Male', 'Male',\n",
       "       'Female', 'Female', 'Male', 'Male', 'Female', 'Female', 'Male',\n",
       "       'Male', 'Female', 'Female', 'Female', 'Male', 'Female', 'Female',\n",
       "       'Female', 'Male', 'Male', 'Female', 'Female', 'Male', 'Male',\n",
       "       'Male', 'Female', 'Female', 'Male', 'Female', 'Male', 'Male',\n",
       "       'Female', 'Female', 'Male', 'Female', 'Male', 'Male', 'Female',\n",
       "       'Male', 'Female', 'Female', 'Male', 'Male', 'Male', 'Male',\n",
       "       'Female', 'Male', 'Female', 'Female', 'Male', 'Female', 'Male',\n",
       "       'Male', 'Female', 'Female', 'Female', 'Female', 'Female', 'Female',\n",
       "       'Female', 'Female', 'Male', 'Female', 'Female', 'Female', 'Female',\n",
       "       'Male', 'Female', 'Male', 'Male', 'Male', 'Female', 'Female',\n",
       "       'Female', 'Female', 'Male', 'Male', 'Female', 'Male', 'Female',\n",
       "       'Male', 'Female', 'Male', 'Male', 'Female', 'Male', 'Male', 'Male',\n",
       "       'Male', 'Female', 'Male', 'Female', 'Male', 'Female', 'Female',\n",
       "       'Female', 'Male', 'Male', 'Female', 'Female', 'Female', 'Female',\n",
       "       'Male', 'Male', 'Male', 'Male', 'Female', 'Female', 'Female',\n",
       "       'Female', 'Male', 'Female', 'Female', 'Male'], \n",
       "      dtype='|S6')"
      ]
     },
     "execution_count": 37,
     "metadata": {},
     "output_type": "execute_result"
    }
   ],
   "source": [
    "T=np.array([str(g) for g in data[:,0]])\n",
    "T"
   ]
  },
  {
   "cell_type": "markdown",
   "metadata": {},
   "source": [
    "In order to read a 2D data you may use __data[:,1:]__"
   ]
  },
  {
   "cell_type": "code",
   "execution_count": 57,
   "metadata": {
    "collapsed": false
   },
   "outputs": [
    {
     "data": {
      "text/plain": [
       "array([ 68.  ,  71.  ,  73.  ,  64.  ,  68.  ,  59.  ,  73.  ,  75.  ,\n",
       "        65.  ,  69.  ,  69.  ,  64.  ,  67.  ,  67.  ,  69.  ,  73.  ,\n",
       "        62.  ,  69.  ,  64.  ,  74.  ,  73.  ,  66.  ,  74.  ,  73.  ,\n",
       "        69.  ,  64.  ,  67.  ,  60.  ,  75.  ,  64.  ,  67.  ,  67.  ,\n",
       "        66.  ,  62.  ,  72.  ,  71.  ,  61.  ,  63.  ,  66.  ,  71.  ,\n",
       "        71.  ,  66.  ,  70.  ,  67.  ,  69.  ,  67.  ,  68.  ,  67.  ,\n",
       "        68.  ,  71.  ,  70.  ,  74.  ,  60.  ,  65.  ,  72.  ,  76.  ,\n",
       "        66.  ,  64.5 ,  71.  ,  69.  ,  64.  ,  65.  ,  74.  ,  68.  ,\n",
       "        68.  ,  69.  ,  68.  ,  67.  ,  61.5 ,  63.  ,  67.  ,  71.  ,\n",
       "        73.  ,  63.  ,  61.  ,  67.  ,  72.  ,  72.  ,  68.  ,  66.  ,\n",
       "        67.  ,  67.  ,  72.  ,  67.5 ,  63.75,  72.  ,  69.  ,  68.  ,\n",
       "        71.  ,  71.  ,  63.  ,  70.  ,  68.  ,  67.5 ,  75.  ,  74.  ,\n",
       "        71.  ,  71.  ,  64.  ,  71.  ,  69.  ,  65.  ,  69.  ,  63.  ,\n",
       "        70.  ,  71.  ,  64.  ,  63.  ,  65.  ,  66.  ,  66.  ,  65.  ,\n",
       "        67.5 ,  57.  ,  72.  ,  64.  ,  67.  ,  68.  ,  63.  ,  67.  ,\n",
       "        66.  ,  72.  ,  74.  ,  69.  ,  68.  ,  65.  ,  64.  ,  67.  ,\n",
       "        74.  ,  73.  ,  64.  ,  76.  ,  68.  ,  76.  ,  64.25,  69.  ,\n",
       "        75.  ,  61.5 ,  69.  ,  67.  ,  74.  ,  74.  ,  71.  ,  71.  ,\n",
       "        63.  ,  67.  ,  65.  ,  68.  ,  67.  ,  73.  ,  78.  ,  62.  ,\n",
       "        70.  ,  64.  ,  64.  ,  72.  ,  74.  ,  70.  ,  70.  ,  62.  ,\n",
       "        64.  ,  66.  ,  60.  ,  73.  ,  66.  ,  68.  ,  73.  ])"
      ]
     },
     "execution_count": 57,
     "metadata": {},
     "output_type": "execute_result"
    }
   ],
   "source": [
    "data=readExcel(excelfile)\n",
    "X=np.array(data[:,1:],dtype=float);\n",
    "T=np.array(data[:,0],dtype=str);\n",
    "X[:,0]"
   ]
  },
  {
   "cell_type": "markdown",
   "metadata": {},
   "source": [
    "2- Construct separate 2D histograms for male and female heights. You decide on the number of bins to use, making sure there is sufficient resolution and bin-filling. Represent height in rows, and handspan in columns -- both in ascending order of magnitude of feature. Do not use a built-in histogram program. <br>\n",
    "* __Hint:__ Assume that the data is given as 𝑋={{ℎ_1,𝑠_1 },{ℎ_2,𝑠_2 },{ℎ_3,𝑠_3 },…} where the heights are ℎ_𝑖, the handspans are 𝑠_𝑖 and the genders are given as G={𝑔_1,𝑔_2,𝑔_3,…,𝑔_𝑁 }.\n"
   ]
  },
  {
   "cell_type": "code",
   "execution_count": 63,
   "metadata": {
    "collapsed": false
   },
   "outputs": [
    {
     "data": {
      "text/plain": [
       "array(['Female', 'Male', 'Male', 'Female', 'Male', 'Female', 'Male',\n",
       "       'Male', 'Female', 'Female'], \n",
       "      dtype='|S6')"
      ]
     },
     "execution_count": 63,
     "metadata": {},
     "output_type": "execute_result"
    }
   ],
   "source": [
    "T[:10]"
   ]
  },
  {
   "cell_type": "markdown",
   "metadata": {},
   "source": [
    "* __Hint 02: __ <br>\n",
    "Construct separate 2D histograms for the two classes. One way to do this is to first initialize (with zeros) two matrices $𝐻_𝐹$ and $𝐻_𝑀$, each of size 𝐵×𝐵. <br> \n",
    "Next, compute the minimum and maximum of each of the features found in the training data (irrespective of class). Let us call these limits $ℎ_{min}$, $ℎ_{max}$, $𝑠_{min}$, and $𝑠_{max}$. <br>\n",
    "The matrices $𝐻_𝐹$ and $𝐻_𝑀$ will now be subjected to a sequence of updating operations till the histograms are built up.\n"
   ]
  },
  {
   "cell_type": "code",
   "execution_count": 24,
   "metadata": {
    "collapsed": false
   },
   "outputs": [
    {
     "data": {
      "text/plain": [
       "[['ddd', 'ddd', 'ddd', 'ddd', 'ddd'],\n",
       " ['ddd', 'ddd', 'ddd', 'ddd', 'ddd'],\n",
       " ['ddd', 'ddd', 'ddd', 'ddd', 'ddd']]"
      ]
     },
     "execution_count": 24,
     "metadata": {},
     "output_type": "execute_result"
    }
   ],
   "source": [
    "#This is how to initiate a DxD array in python but we won't use this (FYI Only)\n",
    "twod_list = []                    \n",
    "for i in range (0, 3): \n",
    "    new = []                \n",
    "    for j in range (0, 5): \n",
    "        new.append('ddd')       \n",
    "    twod_list.append(new)  \n",
    "twod_list"
   ]
  },
  {
   "cell_type": "code",
   "execution_count": 27,
   "metadata": {
    "collapsed": false
   },
   "outputs": [
    {
     "data": {
      "text/plain": [
       "array([0, 0], dtype=int32)"
      ]
     },
     "execution_count": 27,
     "metadata": {},
     "output_type": "execute_result"
    }
   ],
   "source": [
    "#numPy got it's own way of initiating arrays\n",
    "#numpy.zeros(shape, dtype=float, order='C')\n",
    "#Return a new array of given shape and type, filled with zeros.\n",
    "HF=np.zeros(2).astype('int32');\n",
    "HF"
   ]
  },
  {
   "cell_type": "code",
   "execution_count": 91,
   "metadata": {
    "collapsed": false
   },
   "outputs": [],
   "source": [
    "#for a nD array eg 2x2\n",
    "#pay attention to double brackets\n",
    "# Visit https://docs.scipy.org/doc/numpy-1.13.0/reference/generated/numpy.zeros.html\n",
    "\n",
    "HF=np.zeros((B,B)).astype('int32');\n",
    "HF\n",
    "HM=np.zeros((B,B)).astype('int32');"
   ]
  },
  {
   "cell_type": "code",
   "execution_count": 31,
   "metadata": {
    "collapsed": true
   },
   "outputs": [],
   "source": [
    "# this will build a 1D Histogram Classifier (FYI only)\n",
    "def BuildHistogramClassifier(X,T,B,xmin,xmax):\n",
    "    HF=np.zeros((B,2)).astype('int32');\n",
    "    HM=np.zeros((B,2)).astype('int32');\n",
    "    binindices=(np.round(((B-1)*(X-xmin)/(xmax-xmin)))).astype('int32');\n",
    "    for i,b in enumerate(binindices):\n",
    "        if T[i]=='Female':\n",
    "            HF[b]+=1;\n",
    "        else:\n",
    "            HM[b]+=1;\n",
    "    return [HF,HM]"
   ]
  },
  {
   "cell_type": "code",
   "execution_count": 69,
   "metadata": {
    "collapsed": false
   },
   "outputs": [],
   "source": [
    "B=8\n",
    "xmin = np.amin(X, axis=0)\n",
    "xmax = np.amax(X, axis=0)\n",
    "hmin = xmin[0]\n",
    "hmax = xmax[0]\n",
    "smin = xmin[1]\n",
    "smax = xmax[1]\n"
   ]
  },
  {
   "cell_type": "markdown",
   "metadata": {},
   "source": [
    "* __Hint 03__ <br>\n",
    "For every feature vector {$ℎ_𝑖$,$𝑠_𝑖$} pair belonging to the training set, do:<br>\n",
    "    * Transform {$ℎ_𝑖$,$𝑠_𝑖$ } to row-column indices {𝑟,𝑐 } using\n",
    "    \t$$𝑟=𝑅𝑂𝑈𝑁𝐷((𝐵−1)((ℎ_𝑖−ℎ_{min})/(ℎ_{max}−ℎ_{min} )))$$\n",
    "\t$$𝑐=𝑅𝑂𝑈𝑁𝐷((𝐵−1)((𝑠_𝑖−𝑠_{min})/(𝑠_{max}−𝑠_{min} )))$$\n"
   ]
  },
  {
   "cell_type": "code",
   "execution_count": 60,
   "metadata": {
    "collapsed": true
   },
   "outputs": [],
   "source": [
    "# now I've put all the above information together to build a 2DHistogram\n",
    "def Build2DHistogramClassifier(X,T,B,xmin,xmax):\n",
    "    hmin = xmin[0]\n",
    "    hmax = xmax[0]\n",
    "    smin = xmin[1]\n",
    "    smax = xmax[1]\n",
    "    HF=np.zeros((B,)).astype('int32');\n",
    "    HM=np.zeros((B,)).astype('int32');\n",
    "    #Below creates bin indexes 𝑏=𝐵𝐹(𝑥) to map a given sample 𝑥 to a bin index 𝑏.\n",
    "    # So if the given sample is of a height nature it's allocated to row (r)\n",
    "    # and if it's of a hand span nature, it is related to column (c)\n",
    "    binindices_r=(np.round(((B-1)*(X[:,0]-hmin)/(hmax-hmin)))).astype('int32');\n",
    "    binindices_c=(np.round(((B-1)*(X[:,1]-smin)/(smax-smin)))).astype('int32');\n",
    "    # the enumerate in 2D please share your thoughts\n",
    "    for i,b in enumerate(binindices_r):\n",
    "        if T[i]=='Female':\n",
    "            HF[b]+=1;\n",
    "        else:\n",
    "            HM[b]+=1;\n",
    "    #return [HF,HM]\n",
    "    return binindices_r"
   ]
  },
  {
   "cell_type": "code",
   "execution_count": null,
   "metadata": {
    "collapsed": false
   },
   "outputs": [],
   "source": []
  },
  {
   "cell_type": "markdown",
   "metadata": {},
   "source": [
    "__What does bin indices does?__ <br>\n",
    "lets say you got 10 people of 10 different heights and you wan't to categorize them in 3 bins. when you run the bin index formula, you basically map each height to one of 3 bins."
   ]
  },
  {
   "cell_type": "code",
   "execution_count": 61,
   "metadata": {
    "collapsed": false
   },
   "outputs": [],
   "source": [
    "binic = Build2DHistogramClassifier(X,T,B,xmin,xmax);"
   ]
  },
  {
   "cell_type": "code",
   "execution_count": 62,
   "metadata": {
    "collapsed": false
   },
   "outputs": [
    {
     "data": {
      "text/plain": [
       "array([4, 5, 5, 2, 4, 1, 5, 6, 3, 4, 4, 2, 3, 3, 4, 5, 2, 4, 2, 6, 5, 3, 6,\n",
       "       5, 4, 2, 3, 1, 6, 2, 3, 3, 3, 2, 5, 5, 1, 2, 3, 5, 5, 3, 4, 3, 4, 3,\n",
       "       4, 3, 4, 5, 4, 6, 1, 3, 5, 6, 3, 2, 5, 4, 2, 3, 6, 4, 4, 4, 4, 3, 2,\n",
       "       2, 3, 5, 5, 2, 1, 3, 5, 5, 4, 3, 3, 3, 5, 4, 2, 5, 4, 4, 5, 5, 2, 4,\n",
       "       4, 4, 6, 6, 5, 5, 2, 5, 4, 3, 4, 2, 4, 5, 2, 2, 3, 3, 3, 3, 4, 0, 5,\n",
       "       2, 3, 4, 2, 3, 3, 5, 6, 4, 4, 3, 2, 3, 6, 5, 2, 6, 4, 6, 2, 4, 6, 2,\n",
       "       4, 3, 6, 6, 5, 5, 2, 3, 3, 4, 3, 5, 7, 2, 4, 2, 2, 5, 6, 4, 4, 2, 2,\n",
       "       3, 1, 5, 3, 4, 5], dtype=int32)"
      ]
     },
     "execution_count": 62,
     "metadata": {},
     "output_type": "execute_result"
    }
   ],
   "source": [
    "binic"
   ]
  },
  {
   "cell_type": "markdown",
   "metadata": {},
   "source": [
    "__Hint 04:__ <br>\n",
    "If gender $𝑔_𝑖=𝐹$, update $𝐻_𝐹$ as $𝐻_𝐹 [𝑟,𝑐]=𝐻_𝐹 [𝑟,𝑐]+1$. Otherwise, update $𝐻_𝑀$ as $𝐻_𝑀 [𝑟,𝑐]=𝐻_𝑀 [𝑟,𝑐]+1$.\n"
   ]
  },
  {
   "cell_type": "code",
   "execution_count": 87,
   "metadata": {
    "collapsed": false
   },
   "outputs": [
    {
     "data": {
      "text/plain": [
       "[array([[ 186,  210],\n",
       "        [1116, 1260],\n",
       "        [5766, 6510],\n",
       "        [7052, 7964],\n",
       "        [7212, 8148],\n",
       "        [6262, 7078],\n",
       "        [3128, 3536],\n",
       "        [ 184,  208]], dtype=int32), array([[ 234,  236],\n",
       "        [1404, 1416],\n",
       "        [7254, 7316],\n",
       "        [8908, 8984],\n",
       "        [9168, 9246],\n",
       "        [8018, 8086],\n",
       "        [4012, 4046],\n",
       "        [ 236,  238]], dtype=int32)]"
      ]
     },
     "execution_count": 87,
     "metadata": {},
     "output_type": "execute_result"
    }
   ],
   "source": [
    "B=8\n",
    "binindices_r=(np.round(((B-1)*(X[:,0]-hmin)/(hmax-hmin)))).astype('int32');\n",
    "binindices_c=(np.round(((B-1)*(X[:,1]-smin)/(smax-smin)))).astype('int32');\n",
    "for i,r in enumerate(binindices_r):\n",
    "    for i,c in enumerate(binindices_c):\n",
    "        if T[i]=='Female':\n",
    "            HF[r,c:]+=1;\n",
    "        else:\n",
    "            HM[r,c:]+=1;\n",
    "[HF,HM]"
   ]
  },
  {
   "cell_type": "code",
   "execution_count": 93,
   "metadata": {
    "collapsed": false
   },
   "outputs": [
    {
     "data": {
      "text/plain": [
       "[array([[ 2,  0,  1,  0,  0,  0,  0,  0],\n",
       "        [ 1, 11,  9,  4,  0,  0,  0,  0],\n",
       "        [ 1, 15, 43, 16,  5,  0,  0,  0],\n",
       "        [ 0,  3, 16, 24,  5,  0,  0,  0],\n",
       "        [ 0,  0,  4,  9,  4,  2,  0,  0],\n",
       "        [ 0,  0,  1,  1,  1,  0,  0,  0],\n",
       "        [ 0,  0,  0,  0,  0,  0,  0,  0],\n",
       "        [ 0,  0,  0,  0,  0,  0,  0,  0]], dtype=int32),\n",
       " array([[ 0,  0,  0,  0,  0,  0,  0,  0],\n",
       "        [ 0,  0,  0,  0,  0,  0,  0,  0],\n",
       "        [ 0,  0,  1,  7,  1,  0,  0,  0],\n",
       "        [ 0,  1,  4, 22, 13,  1,  0,  0],\n",
       "        [ 0,  1,  5, 12, 24,  8,  3,  0],\n",
       "        [ 0,  0,  0,  5, 17,  8,  5,  0],\n",
       "        [ 0,  0,  0,  1,  3,  1, 12,  0],\n",
       "        [ 0,  0,  0,  0,  0,  0,  0,  1]], dtype=int32)]"
      ]
     },
     "execution_count": 93,
     "metadata": {},
     "output_type": "execute_result"
    }
   ],
   "source": [
    "B=6\n",
    "binindices_r=(np.round(((B-1)*(X[:,0]-hmin)/(hmax-hmin)))).astype('int32');\n",
    "binindices_c=(np.round(((B-1)*(X[:,1]-smin)/(smax-smin)))).astype('int32');\n",
    "for i,g in enumerate(T):\n",
    "    if T[i] =='Female':\n",
    "        HF[binindices_r[i],binindices_c[i]]+=1;\n",
    "    else:\n",
    "        HM[binindices_r[i],binindices_c[i]]+=1;\n",
    "[HF,HM]"
   ]
  },
  {
   "cell_type": "code",
   "execution_count": null,
   "metadata": {
    "collapsed": true
   },
   "outputs": [],
   "source": []
  }
 ],
 "metadata": {
  "kernelspec": {
   "display_name": "Python 2",
   "language": "python",
   "name": "python2"
  },
  "language_info": {
   "codemirror_mode": {
    "name": "ipython",
    "version": 2
   },
   "file_extension": ".py",
   "mimetype": "text/x-python",
   "name": "python",
   "nbconvert_exporter": "python",
   "pygments_lexer": "ipython2",
   "version": "2.7.13"
  }
 },
 "nbformat": 4,
 "nbformat_minor": 2
}
